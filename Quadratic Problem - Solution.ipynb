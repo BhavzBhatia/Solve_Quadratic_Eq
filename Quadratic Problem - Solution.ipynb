{
 "cells": [
  {
   "cell_type": "markdown",
   "id": "818bc09c",
   "metadata": {},
   "source": [
    "\n",
    "### Python Program to Solve Quadratic Equation\n",
    "\n",
    "\n",
    "    This program computes roots of a quadratic equation when coefficients a, b and c are known. \n",
    "    The standard form of a quadratic equation is:\n",
    "    ax2 + bx + c = 0, where \n",
    "    a, b and c are real numbers and \n",
    "    a ≠ 0\n",
    "    Take a, b, c from the user,\n",
    "HINT : Import cmath when considering squarerrot (discriminant  :  d = (b**2) - (4*a*c))\n",
    "\n"
   ]
  },
  {
   "cell_type": "code",
   "execution_count": 35,
   "id": "1cbd03c5",
   "metadata": {},
   "outputs": [
    {
     "name": "stdout",
     "output_type": "stream",
     "text": [
      "Enter the three numbers (greater than 0 ) separated by space - 10 24 6\n",
      " Value of a is 10 \n",
      " Value of b is 24 \n",
      " Value of c is 6\n"
     ]
    }
   ],
   "source": [
    "num = input(\"Enter the three numbers (greater than 0 ) separated by space - \").split(\" \")\n",
    "\n",
    "a = int(num[0])\n",
    "b = int(num[1])\n",
    "c = int(num[2])\n",
    "\n",
    "print(f\" Value of a is {num[0]} \\n Value of b is {num[1]} \\n Value of c is {num[2]}\")\n"
   ]
  },
  {
   "cell_type": "code",
   "execution_count": 36,
   "id": "a9a8fb44",
   "metadata": {},
   "outputs": [],
   "source": [
    "import math\n",
    "\n",
    "D = (b**2) - (4*a*c)\n",
    "d = math.sqrt(D)\n",
    "\n",
    "x1 = (- b - d)/(2*a)\n",
    "x2 = (- b + d)/(2*a)\n"
   ]
  },
  {
   "cell_type": "code",
   "execution_count": 38,
   "id": "e4a357af",
   "metadata": {},
   "outputs": [
    {
     "name": "stdout",
     "output_type": "stream",
     "text": [
      "The solutions of the quadratic equation 10x^2 + 24x + 6 = 0 are -2.1165151389911676 and -0.283484861008832\n"
     ]
    }
   ],
   "source": [
    "print(f\"The solutions of the quadratic equation {a}x^2 + {b}x + {c} = 0 are {x1} and {x2}\")"
   ]
  },
  {
   "cell_type": "code",
   "execution_count": null,
   "id": "67c46251",
   "metadata": {},
   "outputs": [],
   "source": []
  }
 ],
 "metadata": {
  "kernelspec": {
   "display_name": "Python 3 (ipykernel)",
   "language": "python",
   "name": "python3"
  },
  "language_info": {
   "codemirror_mode": {
    "name": "ipython",
    "version": 3
   },
   "file_extension": ".py",
   "mimetype": "text/x-python",
   "name": "python",
   "nbconvert_exporter": "python",
   "pygments_lexer": "ipython3",
   "version": "3.9.13"
  }
 },
 "nbformat": 4,
 "nbformat_minor": 5
}
